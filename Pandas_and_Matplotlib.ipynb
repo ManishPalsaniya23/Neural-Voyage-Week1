{
 "cells": [
  {
   "cell_type": "markdown",
   "metadata": {},
   "source": [
    "## Basics of Pandas and Matplotlib"
   ]
  },
  {
   "cell_type": "markdown",
   "metadata": {},
   "source": [
    "Pandas is a utility which is very helpful in dealing with data in a organized manner, while matplotlib is majorly used for plotting different types of graphs<br><br>\n",
    "Again, in this assignment, you are allowed to search for syntax related stuff!"
   ]
  },
  {
   "cell_type": "code",
   "execution_count": 1,
   "metadata": {},
   "outputs": [
    {
     "name": "stdout",
     "output_type": "stream",
     "text": [
      "     sepal length (cm)  sepal width (cm)  petal length (cm)  petal width (cm)  target\n",
      "0                  5.1               3.5                1.4               0.2       0\n",
      "1                  4.9               3.0                1.4               0.2       0\n",
      "2                  4.7               3.2                1.3               0.2       0\n",
      "3                  4.6               3.1                1.5               0.2       0\n",
      "4                  5.0               3.6                1.4               0.2       0\n",
      "5                  5.4               3.9                1.7               0.4       0\n",
      "6                  4.6               3.4                1.4               0.3       0\n",
      "7                  5.0               3.4                1.5               0.2       0\n",
      "8                  4.4               2.9                1.4               0.2       0\n",
      "9                  4.9               3.1                1.5               0.1       0\n",
      "10                 5.4               3.7                1.5               0.2       0\n",
      "11                 4.8               3.4                1.6               0.2       0\n",
      "12                 4.8               3.0                1.4               0.1       0\n",
      "13                 4.3               3.0                1.1               0.1       0\n",
      "14                 5.8               4.0                1.2               0.2       0\n",
      "15                 5.7               4.4                1.5               0.4       0\n",
      "16                 5.4               3.9                1.3               0.4       0\n",
      "17                 5.1               3.5                1.4               0.3       0\n",
      "18                 5.7               3.8                1.7               0.3       0\n",
      "19                 5.1               3.8                1.5               0.3       0\n",
      "20                 5.4               3.4                1.7               0.2       0\n",
      "21                 5.1               3.7                1.5               0.4       0\n",
      "22                 4.6               3.6                1.0               0.2       0\n",
      "23                 5.1               3.3                1.7               0.5       0\n",
      "24                 4.8               3.4                1.9               0.2       0\n",
      "25                 5.0               3.0                1.6               0.2       0\n",
      "26                 5.0               3.4                1.6               0.4       0\n",
      "27                 5.2               3.5                1.5               0.2       0\n",
      "28                 5.2               3.4                1.4               0.2       0\n",
      "29                 4.7               3.2                1.6               0.2       0\n",
      "30                 4.8               3.1                1.6               0.2       0\n",
      "31                 5.4               3.4                1.5               0.4       0\n",
      "32                 5.2               4.1                1.5               0.1       0\n",
      "33                 5.5               4.2                1.4               0.2       0\n",
      "34                 4.9               3.1                1.5               0.2       0\n",
      "35                 5.0               3.2                1.2               0.2       0\n",
      "36                 5.5               3.5                1.3               0.2       0\n",
      "37                 4.9               3.6                1.4               0.1       0\n",
      "38                 4.4               3.0                1.3               0.2       0\n",
      "39                 5.1               3.4                1.5               0.2       0\n",
      "40                 5.0               3.5                1.3               0.3       0\n",
      "41                 4.5               2.3                1.3               0.3       0\n",
      "42                 4.4               3.2                1.3               0.2       0\n",
      "43                 5.0               3.5                1.6               0.6       0\n",
      "44                 5.1               3.8                1.9               0.4       0\n",
      "45                 4.8               3.0                1.4               0.3       0\n",
      "46                 5.1               3.8                1.6               0.2       0\n",
      "47                 4.6               3.2                1.4               0.2       0\n",
      "48                 5.3               3.7                1.5               0.2       0\n",
      "49                 5.0               3.3                1.4               0.2       0\n",
      "50                 7.0               3.2                4.7               1.4       1\n",
      "51                 6.4               3.2                4.5               1.5       1\n",
      "52                 6.9               3.1                4.9               1.5       1\n",
      "53                 5.5               2.3                4.0               1.3       1\n",
      "54                 6.5               2.8                4.6               1.5       1\n",
      "55                 5.7               2.8                4.5               1.3       1\n",
      "56                 6.3               3.3                4.7               1.6       1\n",
      "57                 4.9               2.4                3.3               1.0       1\n",
      "58                 6.6               2.9                4.6               1.3       1\n",
      "59                 5.2               2.7                3.9               1.4       1\n",
      "60                 5.0               2.0                3.5               1.0       1\n",
      "61                 5.9               3.0                4.2               1.5       1\n",
      "62                 6.0               2.2                4.0               1.0       1\n",
      "63                 6.1               2.9                4.7               1.4       1\n",
      "64                 5.6               2.9                3.6               1.3       1\n",
      "65                 6.7               3.1                4.4               1.4       1\n",
      "66                 5.6               3.0                4.5               1.5       1\n",
      "67                 5.8               2.7                4.1               1.0       1\n",
      "68                 6.2               2.2                4.5               1.5       1\n",
      "69                 5.6               2.5                3.9               1.1       1\n",
      "70                 5.9               3.2                4.8               1.8       1\n",
      "71                 6.1               2.8                4.0               1.3       1\n",
      "72                 6.3               2.5                4.9               1.5       1\n",
      "73                 6.1               2.8                4.7               1.2       1\n",
      "74                 6.4               2.9                4.3               1.3       1\n",
      "75                 6.6               3.0                4.4               1.4       1\n",
      "76                 6.8               2.8                4.8               1.4       1\n",
      "77                 6.7               3.0                5.0               1.7       1\n",
      "78                 6.0               2.9                4.5               1.5       1\n",
      "79                 5.7               2.6                3.5               1.0       1\n",
      "80                 5.5               2.4                3.8               1.1       1\n",
      "81                 5.5               2.4                3.7               1.0       1\n",
      "82                 5.8               2.7                3.9               1.2       1\n",
      "83                 6.0               2.7                5.1               1.6       1\n",
      "84                 5.4               3.0                4.5               1.5       1\n",
      "85                 6.0               3.4                4.5               1.6       1\n",
      "86                 6.7               3.1                4.7               1.5       1\n",
      "87                 6.3               2.3                4.4               1.3       1\n",
      "88                 5.6               3.0                4.1               1.3       1\n",
      "89                 5.5               2.5                4.0               1.3       1\n",
      "90                 5.5               2.6                4.4               1.2       1\n",
      "91                 6.1               3.0                4.6               1.4       1\n",
      "92                 5.8               2.6                4.0               1.2       1\n",
      "93                 5.0               2.3                3.3               1.0       1\n",
      "94                 5.6               2.7                4.2               1.3       1\n",
      "95                 5.7               3.0                4.2               1.2       1\n",
      "96                 5.7               2.9                4.2               1.3       1\n",
      "97                 6.2               2.9                4.3               1.3       1\n",
      "98                 5.1               2.5                3.0               1.1       1\n",
      "99                 5.7               2.8                4.1               1.3       1\n",
      "100                6.3               3.3                6.0               2.5       2\n",
      "101                5.8               2.7                5.1               1.9       2\n",
      "102                7.1               3.0                5.9               2.1       2\n",
      "103                6.3               2.9                5.6               1.8       2\n",
      "104                6.5               3.0                5.8               2.2       2\n",
      "105                7.6               3.0                6.6               2.1       2\n",
      "106                4.9               2.5                4.5               1.7       2\n",
      "107                7.3               2.9                6.3               1.8       2\n",
      "108                6.7               2.5                5.8               1.8       2\n",
      "109                7.2               3.6                6.1               2.5       2\n",
      "110                6.5               3.2                5.1               2.0       2\n",
      "111                6.4               2.7                5.3               1.9       2\n",
      "112                6.8               3.0                5.5               2.1       2\n",
      "113                5.7               2.5                5.0               2.0       2\n",
      "114                5.8               2.8                5.1               2.4       2\n",
      "115                6.4               3.2                5.3               2.3       2\n",
      "116                6.5               3.0                5.5               1.8       2\n",
      "117                7.7               3.8                6.7               2.2       2\n",
      "118                7.7               2.6                6.9               2.3       2\n",
      "119                6.0               2.2                5.0               1.5       2\n",
      "120                6.9               3.2                5.7               2.3       2\n",
      "121                5.6               2.8                4.9               2.0       2\n",
      "122                7.7               2.8                6.7               2.0       2\n",
      "123                6.3               2.7                4.9               1.8       2\n",
      "124                6.7               3.3                5.7               2.1       2\n",
      "125                7.2               3.2                6.0               1.8       2\n",
      "126                6.2               2.8                4.8               1.8       2\n",
      "127                6.1               3.0                4.9               1.8       2\n",
      "128                6.4               2.8                5.6               2.1       2\n",
      "129                7.2               3.0                5.8               1.6       2\n",
      "130                7.4               2.8                6.1               1.9       2\n",
      "131                7.9               3.8                6.4               2.0       2\n",
      "132                6.4               2.8                5.6               2.2       2\n",
      "133                6.3               2.8                5.1               1.5       2\n",
      "134                6.1               2.6                5.6               1.4       2\n",
      "135                7.7               3.0                6.1               2.3       2\n",
      "136                6.3               3.4                5.6               2.4       2\n",
      "137                6.4               3.1                5.5               1.8       2\n",
      "138                6.0               3.0                4.8               1.8       2\n",
      "139                6.9               3.1                5.4               2.1       2\n",
      "140                6.7               3.1                5.6               2.4       2\n",
      "141                6.9               3.1                5.1               2.3       2\n",
      "142                5.8               2.7                5.1               1.9       2\n",
      "143                6.8               3.2                5.9               2.3       2\n",
      "144                6.7               3.3                5.7               2.5       2\n",
      "145                6.7               3.0                5.2               2.3       2\n",
      "146                6.3               2.5                5.0               1.9       2\n",
      "147                6.5               3.0                5.2               2.0       2\n",
      "148                6.2               3.4                5.4               2.3       2\n",
      "149                5.9               3.0                5.1               1.8       2\n"
     ]
    }
   ],
   "source": [
    "import pandas as pd\n",
    "import matplotlib.pyplot as plt\n",
    "\n",
    "### Loading the dataset from a csv file\n",
    "\n",
    "df = pd.read_csv('iris_dataset.csv')\n",
    "print(df.to_string())"
   ]
  },
  {
   "cell_type": "raw",
   "metadata": {},
   "source": [
    "Perform the following operations on the dataset:\n",
    "* Print the dataset with the *sepal length* values sorted in descending order"
   ]
  },
  {
   "cell_type": "code",
   "execution_count": null,
   "metadata": {},
   "outputs": [],
   "source": [
    "import pandas as pd\n",
    "import matplotlib.pyplot as plt\n",
    "\n",
    "### Loading the dataset from a csv file\n",
    "\n",
    "df = pd.read_csv('iris_dataset.csv')\n",
    "#print(df.to_string())\n",
    "\n",
    "df_sorted = df.sort_values(by = 'sepal length (cm)', ascending = False)\n",
    "print(df_sorted.to_string())"
   ]
  },
  {
   "cell_type": "markdown",
   "metadata": {},
   "source": [
    "* Print only the *petal length* and *petal width* fields for all data points"
   ]
  },
  {
   "cell_type": "code",
   "execution_count": null,
   "metadata": {},
   "outputs": [],
   "source": []
  },
  {
   "cell_type": "markdown",
   "metadata": {},
   "source": [
    "* Extract the first 20 entries of the original dataset and print it"
   ]
  },
  {
   "cell_type": "code",
   "execution_count": null,
   "metadata": {},
   "outputs": [],
   "source": []
  },
  {
   "cell_type": "markdown",
   "metadata": {},
   "source": [
    "* Print only those rows where *sepal length* is greater than 6"
   ]
  },
  {
   "cell_type": "code",
   "execution_count": null,
   "metadata": {},
   "outputs": [],
   "source": []
  },
  {
   "cell_type": "markdown",
   "metadata": {},
   "source": [
    "* Create line plots for each feature on a single plot, with proper labels and a legend at top-right corner. Label the X-axis as 'Index' and the Y-axis as 'Length (cm)'"
   ]
  },
  {
   "cell_type": "code",
   "execution_count": null,
   "metadata": {},
   "outputs": [],
   "source": []
  },
  {
   "cell_type": "markdown",
   "metadata": {},
   "source": [
    "Now create a scatter plot between *petal length* and *petal width* with the following specifications:\n",
    "- For points with target = 0, label should be 'Setosa' and color should be 'red'\n",
    "- For points with target = 1, label should be 'Versicolor' and color should be 'blue'\n",
    "- For points with target = 2, label should be 'Virginica' and color should be 'green'\n",
    "- X axis should be labelled 'Petal Length'\n",
    "- Y axis should be labelled 'Petal Width'\n",
    "- Legend should be at top right corner"
   ]
  },
  {
   "cell_type": "code",
   "execution_count": null,
   "metadata": {},
   "outputs": [],
   "source": []
  }
 ],
 "metadata": {
  "kernelspec": {
   "display_name": "Python 3 (ipykernel)",
   "language": "python",
   "name": "python3"
  },
  "language_info": {
   "codemirror_mode": {
    "name": "ipython",
    "version": 3
   },
   "file_extension": ".py",
   "mimetype": "text/x-python",
   "name": "python",
   "nbconvert_exporter": "python",
   "pygments_lexer": "ipython3",
   "version": "3.12.5"
  }
 },
 "nbformat": 4,
 "nbformat_minor": 4
}
