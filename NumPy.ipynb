{
 "cells": [
  {
   "cell_type": "markdown",
   "metadata": {},
   "source": [
    "## Getting hands-on with NumPy"
   ]
  },
  {
   "cell_type": "markdown",
   "metadata": {},
   "source": [
    "This assignment aims at acquainting you with numpy methods which you will require during this project. So, it is advised that you follow the instructions before each code cell diligently.<br>\n",
    "You are encouraged to google (or ChatGPT) things up wherever you feel stuck : )<br>\n",
    "But make sure you understand things and not just copy-paste them"
   ]
  },
  {
   "cell_type": "markdown",
   "metadata": {},
   "source": [
    "### **Import the NumPy library**"
   ]
  },
  {
   "cell_type": "code",
   "execution_count": 5,
   "metadata": {},
   "outputs": [],
   "source": [
    "import numpy as np"
   ]
  },
  {
   "cell_type": "markdown",
   "metadata": {},
   "source": [
    "### **Initialising arrays in NumPy**"
   ]
  },
  {
   "cell_type": "markdown",
   "metadata": {},
   "source": [
    "NumPy offers several way to initialise arrays\n",
    "* Create a $2\\times3$ array identical to\n",
    "$\\begin{bmatrix}\n",
    "1 & 2 & 4\\\\\n",
    "7 & 13 & 21\\\\\n",
    "\\end{bmatrix}$ and a $2\\times2\\times3$ array identical to\n",
    "$\\begin{bmatrix}\n",
    "[1 & 2 & 3] & [4 & 5 & 6]\\\\\n",
    "[7 & 8 & 9] & [10 & 11 & 12]\\\\\n",
    "\\end{bmatrix}$"
   ]
  },
  {
   "cell_type": "code",
   "execution_count": 7,
   "metadata": {},
   "outputs": [
    {
     "name": "stdout",
     "output_type": "stream",
     "text": [
      "arr1:\n",
      " [[ 1  2  4]\n",
      " [ 7 13 21]]\n",
      "Shape of arr1: (2, 3) ; No. of Dimensions: 2\n",
      "arr2:\n",
      " [[[ 1  2  3]\n",
      "  [ 7  8  9]]\n",
      "\n",
      " [[ 4  5  6]\n",
      "  [10 11 12]]]\n",
      "Shape of arr2: (2, 2, 3) ; No. of Dimensions: 3\n"
     ]
    }
   ],
   "source": [
    "# START\n",
    "    # Enter the values for the 2x3 array\n",
    "arr1 = np.array([[1, 2, 4],[7, 13, 21]])\n",
    "    # Similarly initialise the second array and assign it to arr2\n",
    "arr2 = np.array([[[1, 2, 3], [7, 8, 9]],\n",
    "                  [[4, 5, 6], [10, 11, 12]]])\n",
    "# END\n",
    "\n",
    "print(\"arr1:\\n\", arr1)\n",
    "print(\"Shape of arr1:\", arr1.shape, \"; No. of Dimensions:\", arr1.ndim)\n",
    "print(\"arr2:\\n\", arr2)\n",
    "print(\"Shape of arr2:\", arr2.shape, \"; No. of Dimensions:\", arr2.ndim)"
   ]
  },
  {
   "cell_type": "markdown",
   "metadata": {},
   "source": [
    "Note that the shapes and no. of dimensions of the arrays have been printed. These attributes help a lot in debugging"
   ]
  },
  {
   "cell_type": "markdown",
   "metadata": {},
   "source": [
    "Now create\n",
    "* A $2\\times3$ array **arr3** of all zeros using **np.zeros**\n",
    "* A $2\\times3$ array **arr4** of all ones using **np.ones**\n",
    "* A $2\\times3$ array **arr5** of all fives using **np.full**\n",
    "* A 1-D array **arr6** containing only even numbers in the range $0-20$ using **np.arange**\n",
    "* Repeat last task using **np.linspace** and name it **arr7**"
   ]
  },
  {
   "cell_type": "code",
   "execution_count": 25,
   "metadata": {},
   "outputs": [
    {
     "name": "stdout",
     "output_type": "stream",
     "text": [
      "arr3:\n",
      " [[0. 0. 0.]\n",
      " [0. 0. 0.]]\n",
      "arr4:\n",
      " [[1. 1. 1.]\n",
      " [1. 1. 1.]]\n",
      "arr5:\n",
      " [[5 5 5]\n",
      " [5 5 5]]\n",
      "arr6:\n",
      " [ 0  2  4  6  8 10 12 14 16 18]\n",
      "arr7:\n",
      " [ 0  2  4  6  8 10 12 14 16 18]\n"
     ]
    }
   ],
   "source": [
    "# START\n",
    "arr3 = np.zeros((2,3))\n",
    "arr4 = np.ones((2,3))\n",
    "arr5 = np.full((2,3),5)\n",
    "arr6 = np.arange(0,20,2)\n",
    "arr7 = np.linspace(0,20,10, endpoint = False, dtype = int)\n",
    "# END\n",
    "\n",
    "print(f\"arr3:\\n {arr3}\")\n",
    "print(f\"arr4:\\n {arr4}\")\n",
    "print(f\"arr5:\\n {arr5}\")\n",
    "print(f\"arr6:\\n {arr6}\")\n",
    "print(f\"arr7:\\n {arr7}\")"
   ]
  },
  {
   "cell_type": "markdown",
   "metadata": {},
   "source": [
    "Creating arrays with random values\n",
    "* Create a $2\\times3$ array **arr8** using **np.random.rand**\n",
    "* Create a $2\\times3$ array **arr9** with rnadom integer values in $[5,8)$ using **randint** method of **random** module"
   ]
  },
  {
   "cell_type": "code",
   "execution_count": 21,
   "metadata": {},
   "outputs": [
    {
     "name": "stdout",
     "output_type": "stream",
     "text": [
      "[[0.39925066 0.97006274 0.78943069]\n",
      " [0.82293235 0.87069509 0.27929498]]\n",
      "[[7 5 5]\n",
      " [6 5 5]]\n"
     ]
    }
   ],
   "source": [
    "# START\n",
    "arr8 = np.random.rand(2,3)\n",
    "arr9 = np.random.randint(5, 8, size=(2, 3))\n",
    "# END\n",
    "\n",
    "print(arr8)\n",
    "print(arr9)"
   ]
  },
  {
   "cell_type": "markdown",
   "metadata": {},
   "source": [
    "### **Accessing arrays in NumPy**"
   ]
  },
  {
   "cell_type": "markdown",
   "metadata": {},
   "source": [
    "Initialise an array **arr** $=\n",
    "\\begin{bmatrix}\n",
    "1 & 3 & 5 & 7\\\\\n",
    "9 & 11 & 13 & 15\\\\\n",
    "17 & 19 & 21 & 23\n",
    "\\end{bmatrix}$ and perform the following operations:<br>\n",
    "\n",
    "* Extract and print the element 13 using numpy array indexing\n",
    "* Use array slicing to print only the 2nd and 4th columns of only the 2nd and 3rd rows of *arr*\n",
    "* Print all the values in *arr* which are a multiple of 3"
   ]
  },
  {
   "cell_type": "code",
   "execution_count": 28,
   "metadata": {},
   "outputs": [
    {
     "name": "stdout",
     "output_type": "stream",
     "text": [
      "13\n",
      "sliced array is:\n",
      " [[11 15]\n",
      " [19 23]]\n",
      "values which are multiple of 3 are:\n",
      "3\n",
      "9\n",
      "15\n",
      "21\n"
     ]
    }
   ],
   "source": [
    "# initialization of array arr\n",
    "arr = np.array([[1,3,5,7],[9,11,13,15],[17,19,21,23]])\n",
    "# extracting element 13\n",
    "num_13 = arr[1,2]\n",
    "print(num_13)\n",
    "#extraction of given rows and columns\n",
    "sl_arr = arr[1:3, [1, 3]]\n",
    "print (\"sliced array is:\\n\",sl_arr)\n",
    "# printing all the multiples of 3 in the given array \n",
    "ele = arr[arr % 3 == 0]\n",
    "print(\"values which are multiple of 3 are:\")\n",
    "for i in range(len(ele)):\n",
    "    print(ele[i])\n",
    "    i += 1"
   ]
  },
  {
   "cell_type": "markdown",
   "metadata": {},
   "source": [
    "### **Reshaping and Broadcasting**"
   ]
  },
  {
   "cell_type": "markdown",
   "metadata": {},
   "source": [
    "* Reshape *arr* into a $2\\times6$ matrix and print it\n",
    "* Print the transpose of *arr*"
   ]
  },
  {
   "cell_type": "code",
   "execution_count": 29,
   "metadata": {},
   "outputs": [
    {
     "name": "stdout",
     "output_type": "stream",
     "text": [
      "[[ 1  3  5  7  9 11]\n",
      " [13 15 17 19 21 23]]\n",
      "transpose of matrix is:\n",
      " [[ 1 13]\n",
      " [ 3 15]\n",
      " [ 5 17]\n",
      " [ 7 19]\n",
      " [ 9 21]\n",
      " [11 23]]\n"
     ]
    }
   ],
   "source": [
    "# reshaping an array into a matrix of size 2x6\n",
    "resh = arr.reshape(2,6)\n",
    "print(resh)\n",
    "# transpose of reshaped matrix\n",
    "resh_t = np.transpose(resh)\n",
    "print(\"transpose of matrix is:\\n\",resh_t)"
   ]
  },
  {
   "cell_type": "markdown",
   "metadata": {},
   "source": [
    "Moving on to broadcasting, you are given two arrays **a** $=\n",
    "\\begin{bmatrix}\n",
    "1 & 2 & 3\n",
    "\\end{bmatrix}$ and **b** $=\n",
    "\\begin{bmatrix}\n",
    "4\\\\\n",
    "5\n",
    "\\end{bmatrix}$<br>\n",
    "\n",
    "Try adding these two arrays using **+** operator and print the result"
   ]
  },
  {
   "cell_type": "code",
   "execution_count": 30,
   "metadata": {},
   "outputs": [
    {
     "name": "stdout",
     "output_type": "stream",
     "text": [
      "[[5 6 7]\n",
      " [6 7 8]]\n",
      "dimension of sum matrix is: 2\n"
     ]
    }
   ],
   "source": [
    "a = np.array([1,2,3])\n",
    "b = np.array([4,5]).reshape(2,1)\n",
    "su = a+b\n",
    "print(su)\n",
    "print(\"dimension of sum matrix is:\",su.ndim)"
   ]
  },
  {
   "cell_type": "markdown",
   "metadata": {},
   "source": [
    "You will find that NumPy repeats the values for the arrays to match dimensions and be compatible while doing a particular matrix operation. In general, a dimension is compatible if it is equal to the respective dimension of the other array or if it is 1"
   ]
  },
  {
   "cell_type": "markdown",
   "metadata": {},
   "source": [
    "### **Miscellaneous**"
   ]
  },
  {
   "cell_type": "markdown",
   "metadata": {},
   "source": [
    "Be cautious while multiplying matrices and don't confuse the functions doing element wise multiplication with the ones doing traditional matrix multipication."
   ]
  },
  {
   "cell_type": "code",
   "execution_count": 31,
   "metadata": {},
   "outputs": [],
   "source": [
    "a = np.array([1,2,3])\n",
    "a_m = a.reshape(1,3)\n",
    "a_t = np.transpose(a_m)\n",
    "#print(a_t)\n",
    "arr_m = arr.reshape(3,4)\n",
    "arr_t = np.transpose(arr_m)\n",
    "#print(arr_t)\n"
   ]
  },
  {
   "cell_type": "code",
   "execution_count": 33,
   "metadata": {
    "scrolled": true
   },
   "outputs": [
    {
     "name": "stdout",
     "output_type": "stream",
     "text": [
      "[[ 1 18 51]\n",
      " [ 3 22 57]\n",
      " [ 5 26 63]\n",
      " [ 7 30 69]]\n",
      "[[ 1 18 51]\n",
      " [ 3 22 57]\n",
      " [ 5 26 63]\n",
      " [ 7 30 69]]\n"
     ]
    }
   ],
   "source": [
    "# Use np.multiply and the * operator to multiply 'arr' and 'a' in this cell, note that you may need to take transpose of one or the other matrix during this operation\n",
    "\n",
    "# here arr_t is the transpose of matrix of array \"arr\" and a_m is matrix of arrat \"a\"\n",
    "prod = np.multiply(arr_t, a_m)\n",
    "print(prod)\n",
    "# multiply operator for multiplication\n",
    "p_2 = arr_t*a_m\n",
    "print(p_2)"
   ]
  },
  {
   "cell_type": "code",
   "execution_count": 165,
   "metadata": {},
   "outputs": [
    {
     "name": "stdout",
     "output_type": "stream",
     "text": [
      "[ 70  82  94 106]\n",
      "[ 70  82  94 106]\n"
     ]
    }
   ],
   "source": [
    "# Use np.matmul and np.dot functions to multiply 'arr' and 'a' in this cell, again you may need to take transpose of one or the other matrix\n",
    "p_3 = np.matmul(a,arr)\n",
    "print(p_3) \n",
    "\n",
    "p_4 = np.dot(a, arr)\n",
    "print(p_4)"
   ]
  }
 ],
 "metadata": {
  "kernelspec": {
   "display_name": "Python 3 (ipykernel)",
   "language": "python",
   "name": "python3"
  },
  "language_info": {
   "codemirror_mode": {
    "name": "ipython",
    "version": 3
   },
   "file_extension": ".py",
   "mimetype": "text/x-python",
   "name": "python",
   "nbconvert_exporter": "python",
   "pygments_lexer": "ipython3",
   "version": "3.12.5"
  }
 },
 "nbformat": 4,
 "nbformat_minor": 4
}
