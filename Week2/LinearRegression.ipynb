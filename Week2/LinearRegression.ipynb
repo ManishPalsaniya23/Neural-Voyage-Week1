{
 "cells": [
  {
   "cell_type": "markdown",
   "metadata": {},
   "source": [
    "# Linear Regression"
   ]
  },
  {
   "cell_type": "markdown",
   "metadata": {},
   "source": [
    "In this assignment, you need to understand and implement linear regression and evaluate its performance on the Boston Housing Dataset"
   ]
  },
  {
   "cell_type": "markdown",
   "metadata": {},
   "source": [
    "### **Import Libraries**"
   ]
  },
  {
   "cell_type": "code",
   "execution_count": 24,
   "metadata": {
    "scrolled": true
   },
   "outputs": [],
   "source": [
    "import numpy as np\n",
    "import pandas as pd\n",
    "import matplotlib.pyplot as plt\n",
    "from sklearn.model_selection import train_test_split\n",
    "from sklearn.metrics import mean_squared_error, r2_score"
   ]
  },
  {
   "cell_type": "markdown",
   "metadata": {},
   "source": [
    "### **Load the dataset**\n",
    "Use pd.read_csv() function to read data from the 'HousingData.csv' file"
   ]
  },
  {
   "cell_type": "code",
   "execution_count": 25,
   "metadata": {},
   "outputs": [],
   "source": [
    "data = pd.read_csv('HousingData.csv')\n",
    "#print(data.to_string())\n"
   ]
  },
  {
   "cell_type": "markdown",
   "metadata": {},
   "source": [
    "### **Data Preparation**"
   ]
  },
  {
   "cell_type": "markdown",
   "metadata": {},
   "source": [
    "We will split the dataset into training and testing data with an 80/20 split."
   ]
  },
  {
   "cell_type": "code",
   "execution_count": 26,
   "metadata": {},
   "outputs": [],
   "source": [
    "from sklearn.preprocessing import StandardScaler\n",
    "\n",
    "X = data.drop(columns='MEDV').values    # All input features\n",
    "y = data['MEDV'].values                 # Target variable\n",
    "\n",
    "scaler = StandardScaler()\n",
    "X = scaler.fit_transform(X)             # Normalizing the input data to avoid any overflows\n",
    "\n",
    "# Split into train and test sets\n",
    "X_train, X_test, y_train, y_test = train_test_split(X, y, test_size=0.2, random_state=42)   # specifying random state ensures that the random split is same everytime we run this command\n",
    "\n",
    "# Drop rows with NaN or Inf\n",
    "y_train = y_train[~np.isnan(X_train).any(axis=1)]\n",
    "X_train = X_train[~np.isnan(X_train).any(axis=1)]\n",
    "\n",
    "y_train = y_train[~np.isinf(X_train).any(axis=1)]\n",
    "X_train = X_train[~np.isinf(X_train).any(axis=1)]\n",
    "\n",
    "# Similarly for X_test\n",
    "y_test = y_test[~np.isnan(X_test).any(axis=1)]\n",
    "X_test = X_test[~np.isnan(X_test).any(axis=1)]\n",
    "\n",
    "y_test = y_test[~np.isinf(X_test).any(axis=1)]\n",
    "X_test = X_test[~np.isinf(X_test).any(axis=1)]"
   ]
  },
  {
   "cell_type": "markdown",
   "metadata": {},
   "source": [
    "### **Implement Linear Regression from Scratch**"
   ]
  },
  {
   "cell_type": "markdown",
   "metadata": {},
   "source": [
    "The three major tasks in this process are:\n",
    "* Fitting the model using gradient descent\n",
    "* Predicting values for test data\n",
    "* Calculating the Mean Squared Error (MSE)\n",
    "\n",
    "Since this implementation will handle multiple input features, it is called multivariate linear regression"
   ]
  },
  {
   "cell_type": "code",
   "execution_count": 27,
   "metadata": {},
   "outputs": [],
   "source": [
    "class LinearRegression:\n",
    "    def __init__(self):\n",
    "        # Initialize weights and bias to None\n",
    "        self.w = None\n",
    "        self.b = None\n",
    "        \n",
    "    def fit(self, X, y, lr=0.01, epochs=1000):\n",
    "        # Initialize parameters to zero\n",
    "        self.m, self.n = X.shape # m = number of samples, n = number of features\n",
    "        self.w = np.zeroes(self.n) # weights are initialized to zero\n",
    "        self.b = 0 # bias is initialized to zero\n",
    "\n",
    "        # Gradient descent\n",
    "        for epoch in range(epochs):\n",
    "            y_pred = self.predict(X) # compute prediction using current weights and bias\n",
    "            #computing gradients\n",
    "            dw = (2 / self.m) * np.dot(X.T, (y_pred - y)) # Gradient w.r.t weights\n",
    "            db = (2 / self.m) * np.sum(y_pred - y)  # Gradient w.r.t bias\n",
    "\n",
    "            # Update weights and bias\n",
    "            self.w -= lr * dw\n",
    "            self.b -= lr * db\n",
    "\n",
    "            # Optional: Print cost every 100 epochs for monitoring\n",
    "            if epoch % 100 == 0:\n",
    "                cost = self.mean_squared_error(y, y_pred)\n",
    "                print(f\"Epoch {epoch}/{epochs}, Cost: {cost}\")\n",
    "\n",
    "    def predict(self, X):\n",
    "        # Compute predictions: y = X * w + b\n",
    "        return np.dot(X, self.w) + self.b\n",
    "\n",
    "    def mean_squared_error(self, y_true, y_pred):\n",
    "        # Calculate the Mean Squared Error (MSE) between true and predicted values\n",
    "        return np.mean((y_true - y_pred) ** 2)"
   ]
  },
  {
   "cell_type": "markdown",
   "metadata": {},
   "source": [
    "### **Instantiate the model**\n",
    "Create an instance of the class and name it *model* and fit on the training data with **learning rate = 0.01** and **1000 iterations**."
   ]
  },
  {
   "cell_type": "code",
   "execution_count": 36,
   "metadata": {},
   "outputs": [
    {
     "name": "stdout",
     "output_type": "stream",
     "text": [
      "Epoch 0/1000, Cost: 595.1172815533981\n",
      "Epoch 100/1000, Cost: 28.20421029400211\n",
      "Epoch 200/1000, Cost: 18.79760098585739\n",
      "Epoch 300/1000, Cost: 18.240633536508515\n",
      "Epoch 400/1000, Cost: 18.03101327177283\n",
      "Epoch 500/1000, Cost: 17.91250220863855\n",
      "Epoch 600/1000, Cost: 17.839372926272766\n",
      "Epoch 700/1000, Cost: 17.79152753497774\n",
      "Epoch 800/1000, Cost: 17.758699341759577\n",
      "Epoch 900/1000, Cost: 17.735311587693456\n",
      "Training mse: 17.718172415341463\n"
     ]
    }
   ],
   "source": [
    "# Initialize the model\n",
    "model = LinearRegressionGD()\n",
    "# Train the model\n",
    "model.fit(X_train, y_train, lr = 0.01, epochs = 1000) # fitting the model to training data\n",
    "y_pred_train = model.predict(X_train) # make predictions on the training data\n",
    "train_mse = model.mean_squared_error(y_train, y_pred_train) # Calculate the Mean Squared Error (MSE) on the training data\n",
    "print(f\"Training mse: {train_mse}\") #print the mse on training data\n"
   ]
  },
  {
   "cell_type": "markdown",
   "metadata": {},
   "source": [
    "### **Evaluate the Model**\n",
    "Evaluate the model's performance on the test set using:\n",
    "1. Mean Squared Error (MSE)\n",
    "2. R-squared Score"
   ]
  },
  {
   "cell_type": "code",
   "execution_count": 43,
   "metadata": {},
   "outputs": [
    {
     "name": "stdout",
     "output_type": "stream",
     "text": [
      "Mean Squared Error: 28.86\n",
      "R-squared Score: 0.64\n"
     ]
    }
   ],
   "source": [
    "from sklearn.metrics import mean_squared_error, r2_score\n",
    "y_pred_test = model.predict(X_test)\n",
    "mse = mean_squared_error(y_test, y_pred_test)\n",
    "print(f\"Mean Squared Error: {mse:.2f}\")\n",
    "r2 = r2_score(y_test, y_pred_test)\n",
    "print(f\"R-squared Score: {r2:.2f}\")\n"
   ]
  },
  {
   "cell_type": "markdown",
   "metadata": {},
   "source": [
    "## **Comparing your results with sklearn's Linear Regression**\n",
    "To validate your implementation, let's compare the results with sklearn's `LinearRegression` model"
   ]
  },
  {
   "cell_type": "code",
   "execution_count": 47,
   "metadata": {},
   "outputs": [
    {
     "name": "stdout",
     "output_type": "stream",
     "text": [
      "Sklearn Model's Mean Squared Error: 28.28\n",
      "Sklearn Model's R-squared Score: 0.65\n"
     ]
    }
   ],
   "source": [
    "from sklearn.linear_model import LinearRegression\n",
    "\n",
    "lr = LinearRegression()\n",
    "lr.fit(X_train, y_train)\n",
    "\n",
    "# Predict and evaluate\n",
    "y_test_pred_sklearn = lr.predict(X_test)\n",
    "mse_sklearn = mean_squared_error(y_test, y_test_pred_sklearn)\n",
    "r2_sklearn = r2_score(y_test, y_test_pred_sklearn)\n",
    "\n",
    "print(f\"Sklearn Model's Mean Squared Error: {mse_sklearn:.2f}\")\n",
    "print(f\"Sklearn Model's R-squared Score: {r2_sklearn:.2f}\")\n",
    "\n",
    "# Compare weights and bias\n",
    " #print(f\"Your Model's Weights: {model.weights}, Bias: {model.bias}\")\n",
    "# print(f\"Sklearn Model's Weights: {lr.coef_}, Bias: {lr.intercept_}\")"
   ]
  }
 ],
 "metadata": {
  "kernelspec": {
   "display_name": "Python 3 (ipykernel)",
   "language": "python",
   "name": "python3"
  },
  "language_info": {
   "codemirror_mode": {
    "name": "ipython",
    "version": 3
   },
   "file_extension": ".py",
   "mimetype": "text/x-python",
   "name": "python",
   "nbconvert_exporter": "python",
   "pygments_lexer": "ipython3",
   "version": "3.12.5"
  }
 },
 "nbformat": 4,
 "nbformat_minor": 4
}
